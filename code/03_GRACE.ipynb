{
 "cells": [
  {
   "cell_type": "code",
   "execution_count": 1,
   "metadata": {},
   "outputs": [],
   "source": [
    "import os\n",
    "import ee\n",
    "import io\n",
    "import time\n",
    "import requests\n",
    "import datetime\n",
    "import itertools\n",
    "import urllib.request\n",
    "\n",
    "import numpy as np\n",
    "import pandas as pd\n",
    "import rsfuncs as rs\n",
    "import geopandas as gp\n",
    "import matplotlib.pyplot as plt\n",
    "\n",
    "from tqdm.notebook import tqdm\n",
    "from pandas.tseries.offsets import MonthEnd\n",
    "from dateutil.relativedelta import relativedelta\n",
    "\n",
    "ee.Initialize()\n",
    "\n",
    "%load_ext autoreload\n",
    "%autoreload 2"
   ]
  },
  {
   "cell_type": "code",
   "execution_count": null,
   "metadata": {},
   "outputs": [],
   "source": []
  },
  {
   "cell_type": "code",
   "execution_count": 2,
   "metadata": {},
   "outputs": [],
   "source": [
    "def get_ims(dataset, startdate,enddate, area, scale_factor, return_dates = False, table = False, monthly_mean = False,  monthly_sum = False):\n",
    "\n",
    "    '''\n",
    "    Returns gridded images for EE datasets \n",
    "    '''\n",
    "\n",
    "    if monthly_mean:\n",
    "        if monthly_sum:\n",
    "            raise ValueError(\"cannot perform mean and sum reduction at the same time\")              \n",
    "\n",
    "    ImageCollection = dataset[0]\n",
    "    var = dataset[1]\n",
    "    native_res = dataset[3]\n",
    "\n",
    "    dt_idx = pd.date_range(startdate,enddate, freq='MS')\n",
    "    ims = []\n",
    "    seq = ee.List.sequence(0, len(dt_idx)-1)\n",
    "    num_steps = seq.getInfo()\n",
    "\n",
    "    # TODO: Make this one loop ?\n",
    "\n",
    "    print(\"processing:\")\n",
    "    print(\"{}\".format(ImageCollection.first().getInfo()['id']))\n",
    "\n",
    "    for i in tqdm(num_steps):\n",
    "\n",
    "        start = ee.Date(startdate).advance(i, 'month')\n",
    "        end = start.advance(1, 'month');\n",
    "\n",
    "        if monthly_mean:\n",
    "            im1 = ee.ImageCollection(ImageCollection).select(var).filterDate(start, end).mean().set('system:time_start', end.millis())\n",
    "            im = ee.ImageCollection(im1)\n",
    "        elif monthly_sum:\n",
    "            im1 = ee.ImageCollection(ImageCollection).select(var).filterDate(start, end).sum().set('system:time_start', end.millis())\n",
    "            im = ee.ImageCollection(im1)\n",
    "        else:\n",
    "            im = ee.ImageCollection(ImageCollection).select(var).filterDate(start, end).set('system:time_start', end.millis())\n",
    "\n",
    "        # This try / catch is probably not great, but needs to be done for e.g. grace which is missing random months \n",
    "        try:\n",
    "            result = im.getRegion(area,native_res,\"epsg:4326\").getInfo()\n",
    "            ims.append(result)\n",
    "        except:\n",
    "            continue\n",
    "\n",
    "\n",
    "    results = []\n",
    "    dates = []\n",
    "\n",
    "    print(\"postprocesing\")\n",
    "\n",
    "    for im in tqdm(ims):\n",
    "        header, data = im[0], im[1:]\n",
    "\n",
    "        df = pd.DataFrame(np.column_stack(data).T, columns = header)\n",
    "        df.latitude = pd.to_numeric(df.latitude)\n",
    "        df.longitude = pd.to_numeric(df.longitude)\n",
    "        df[var] = pd.to_numeric(df[var])\n",
    "        \n",
    "        images = []\n",
    "\n",
    "        for idx,i in enumerate(df.id.unique()):\n",
    "\n",
    "            t1 = df[df.id==i]\n",
    "            arr = rs.array_from_df(t1,var)\n",
    "            arr[arr == 0] = np.nan\n",
    "            images.append(arr*scale_factor)# This is the only good place to apply the scaling factor. \n",
    "\n",
    "            if return_dates:\n",
    "                date = df.time.iloc[idx]\n",
    "                dates.append(datetime.datetime.fromtimestamp(date/1000.0))\n",
    "\n",
    "        results.append(images) \n",
    "        \n",
    "    return [item for sublist in results for item in sublist] \n",
    "\n",
    "def get_scale_factor(area, var = \"SCALE_FACTOR\"):\n",
    "    img = ee.ImageCollection(ee.Image(\"NASA/GRACE/MASS_GRIDS/LAND_AUX_2014\").select(var).clip(area)).getRegion(area,50000,\"epsg:4326\").getInfo()\n",
    "\n",
    "    header, data = img[0], img[1:]\n",
    "\n",
    "    df = pd.DataFrame(np.column_stack(data).T, columns = header)\n",
    "    df.latitude = pd.to_numeric(df.latitude)\n",
    "    df.longitude = pd.to_numeric(df.longitude)\n",
    "    df[var] = pd.to_numeric(df[var])\n",
    "\n",
    "    sfim = []\n",
    "    for idx,i in enumerate(df.id.unique()):\n",
    "\n",
    "        t1 = df[df.id==i]\n",
    "        arr = rs.array_from_df(t1,var)\n",
    "        arr[arr == 0] = np.nan\n",
    "        sfim.append(arr)\n",
    "    return sfim[0]\n",
    "\n",
    "\n",
    "def get_grace_unc(dataset, startdate, enddate, area):\n",
    "\n",
    "    col = dataset[0]\n",
    "    var = \"uncertainty\"\n",
    "    scaling_factor = dataset[2]\n",
    "    \n",
    "    dt_idx = pd.date_range(startdate,enddate, freq='MS')\n",
    "    sums = []\n",
    "    seq = ee.List.sequence(0, len(dt_idx)-1)\n",
    "    num_steps = seq.getInfo()\n",
    "\n",
    "    print(\"processing:\")\n",
    "    print(\"{}\".format(col.first().getInfo()['id']))\n",
    "\n",
    "    for i in tqdm(num_steps):\n",
    "        \n",
    "        start = ee.Date(startdate).advance(i, 'month')\n",
    "        end = start.advance(1, 'month');\n",
    "\n",
    "        try:\n",
    "            im = ee.ImageCollection(col).select(var).filterDate(start, end).sum().set('system:time_start', end.millis())\n",
    "            t2 = im.multiply(ee.Image.pixelArea()).multiply(scaling_factor).multiply(1e-6) # Multiply by pixel area in km^2\n",
    "\n",
    "            scale = t2.projection().nominalScale()\n",
    "            sumdict  = t2.reduceRegion(\n",
    "                    reducer = ee.Reducer.sum(),\n",
    "                    geometry = area,\n",
    "                    scale = scale)\n",
    "\n",
    "            result = sumdict.getInfo()[var] * 1e-5# cm to km\n",
    "            sums.append(result)\n",
    "        except:\n",
    "            sums.append(np.nan) # If there is no grace data that month, append a np.nan \n",
    "    \n",
    "    sumdf = pd.DataFrame(np.array(sums), dt_idx+MonthEnd(0))\n",
    "    sumdf.columns = [var]\n",
    "    df = sumdf.astype(float)\n",
    "    \n",
    "    return df"
   ]
  },
  {
   "cell_type": "code",
   "execution_count": 3,
   "metadata": {},
   "outputs": [],
   "source": [
    "# Select area\n",
    "shp = gp.read_file(\"../shape/argus_grace.shp\")\n",
    "area = rs.gdf_to_ee_poly(shp)\n",
    "\n",
    "# Load data\n",
    "data = rs.load_data()\n",
    "\n",
    "# Set GRACE study period \n",
    "strstart = '2002-04-01'\n",
    "strend = '2017-03-31'\n",
    "\n",
    "startgrace = datetime.datetime.strptime(strstart, \"%Y-%m-%d\")\n",
    "endgrace = datetime.datetime.strptime(strend, \"%Y-%m-%d\")"
   ]
  },
  {
   "cell_type": "code",
   "execution_count": null,
   "metadata": {},
   "outputs": [],
   "source": []
  },
  {
   "cell_type": "code",
   "execution_count": 4,
   "metadata": {},
   "outputs": [
    {
     "data": {
      "text/plain": [
       "<matplotlib.colorbar.Colorbar at 0x146a6aee0>"
      ]
     },
     "execution_count": 4,
     "metadata": {},
     "output_type": "execute_result"
    },
    {
     "data": {
      "image/png": "[encoded data removed]",
      "text/plain": [
       "<Figure size 432x288 with 2 Axes>"
      ]
     },
     "metadata": {
      "needs_background": "light"
     },
     "output_type": "display_data"
    }
   ],
   "source": [
    "# Plot the spatial scaling coefficients for sanity \n",
    "scaling_factor = get_scale_factor(area)\n",
    "plt.imshow(scaling_factor)\n",
    "plt.colorbar()\n",
    "\n",
    "# rs.write_raster(scaling_factor, shp, \"grace_scaling_factor.tif\")"
   ]
  },
  {
   "cell_type": "code",
   "execution_count": null,
   "metadata": {},
   "outputs": [],
   "source": []
  },
  {
   "cell_type": "code",
   "execution_count": 5,
   "metadata": {},
   "outputs": [
    {
     "name": "stdout",
     "output_type": "stream",
     "text": [
      "processing:\n"
     ]
    },
    {
     "name": "stderr",
     "output_type": "stream",
     "text": [
      "\r",
      "  0%|          | 0/180 [00:00<?, ?it/s]"
     ]
    },
    {
     "name": "stdout",
     "output_type": "stream",
     "text": [
      "NASA/GRACE/MASS_GRIDS/MASCON_CRI/20020331_20020429\n"
     ]
    },
    {
     "name": "stderr",
     "output_type": "stream",
     "text": [
      "100%|██████████| 180/180 [00:56<00:00,  3.20it/s]\n"
     ]
    },
    {
     "name": "stdout",
     "output_type": "stream",
     "text": [
      "processing:\n"
     ]
    },
    {
     "name": "stderr",
     "output_type": "stream",
     "text": [
      "\r",
      "  0%|          | 0/180 [00:00<?, ?it/s]"
     ]
    },
    {
     "name": "stdout",
     "output_type": "stream",
     "text": [
      "NASA/GRACE/MASS_GRIDS/MASCON/20020331_20020429\n"
     ]
    },
    {
     "name": "stderr",
     "output_type": "stream",
     "text": [
      "100%|██████████| 180/180 [00:47<00:00,  3.79it/s]\n"
     ]
    },
    {
     "name": "stdout",
     "output_type": "stream",
     "text": [
      "processing:\n",
      "NASA/GRACE/MASS_GRIDS/LAND/20020401_20020430\n"
     ]
    },
    {
     "name": "stderr",
     "output_type": "stream",
     "text": [
      "100%|██████████| 180/180 [00:48<00:00,  3.75it/s]\n",
      "  0%|          | 0/180 [00:00<?, ?it/s]"
     ]
    },
    {
     "name": "stdout",
     "output_type": "stream",
     "text": [
      "processing:\n",
      "NASA/GRACE/MASS_GRIDS/LAND/20020401_20020430\n"
     ]
    },
    {
     "name": "stderr",
     "output_type": "stream",
     "text": [
      "100%|██████████| 180/180 [00:40<00:00,  4.48it/s]\n",
      "  0%|          | 0/180 [00:00<?, ?it/s]"
     ]
    },
    {
     "name": "stdout",
     "output_type": "stream",
     "text": [
      "processing:\n",
      "NASA/GRACE/MASS_GRIDS/LAND/20020401_20020430\n"
     ]
    },
    {
     "name": "stderr",
     "output_type": "stream",
     "text": [
      "100%|██████████| 180/180 [00:41<00:00,  4.38it/s]\n"
     ]
    }
   ],
   "source": [
    "# Get grace products\n",
    "cri = rs.get_grace(data['cri'], startgrace, endgrace, area)\n",
    "mas = rs.get_grace(data['mas'], startgrace, endgrace, area)\n",
    "gfz = rs.get_grace(data['gfz'], startgrace, endgrace, area)\n",
    "csr = rs.get_grace(data['csr'], startgrace, endgrace, area)\n",
    "jpl = rs.get_grace(data['jpl'], startgrace, endgrace, area)"
   ]
  },
  {
   "cell_type": "code",
   "execution_count": 6,
   "metadata": {
    "scrolled": false
   },
   "outputs": [
    {
     "name": "stdout",
     "output_type": "stream",
     "text": [
      "processing:\n",
      "NASA/GRACE/MASS_GRIDS/MASCON_CRI/20020331_20020429\n"
     ]
    },
    {
     "data": {
      "application/vnd.jupyter.widget-view+json": {
       "model_id": "4445ec590a8c4da5865b8a5c87784a77",
       "version_major": 2,
       "version_minor": 0
      },
      "text/plain": [
       "  0%|          | 0/180 [00:00<?, ?it/s]"
      ]
     },
     "metadata": {},
     "output_type": "display_data"
    },
    {
     "name": "stdout",
     "output_type": "stream",
     "text": [
      "processing:\n",
      "NASA/GRACE/MASS_GRIDS/MASCON/20020331_20020429\n"
     ]
    },
    {
     "data": {
      "application/vnd.jupyter.widget-view+json": {
       "model_id": "230e0e4d9b8543b6abdf4a3fa5120834",
       "version_major": 2,
       "version_minor": 0
      },
      "text/plain": [
       "  0%|          | 0/180 [00:00<?, ?it/s]"
      ]
     },
     "metadata": {},
     "output_type": "display_data"
    }
   ],
   "source": [
    "# Get uncertainty\n",
    "cri_unc = get_grace_unc(data['cri_unc'], startgrace, endgrace, area)\n",
    "mas_unc = get_grace_unc(data['mas_unc'], startgrace, endgrace, area)"
   ]
  },
  {
   "cell_type": "code",
   "execution_count": 7,
   "metadata": {},
   "outputs": [],
   "source": [
    "mas_upper = pd.DataFrame(mas['lwe_thickness'] + mas_unc['uncertainty'], columns = ['mas_upper'])\n",
    "mas_lower = pd.DataFrame(mas['lwe_thickness'] - mas_unc['uncertainty'], columns = ['mas_lower'])"
   ]
  },
  {
   "cell_type": "code",
   "execution_count": 8,
   "metadata": {},
   "outputs": [],
   "source": [
    "cri_upper = pd.DataFrame(cri['lwe_thickness'] + cri_unc['uncertainty'], columns = ['cri_upper'])\n",
    "cri_lower = pd.DataFrame(cri['lwe_thickness'] - cri_unc['uncertainty'], columns = ['cri_lower'])"
   ]
  },
  {
   "cell_type": "code",
   "execution_count": 9,
   "metadata": {},
   "outputs": [],
   "source": [
    "# Now the Hydrology data "
   ]
  },
  {
   "cell_type": "code",
   "execution_count": 10,
   "metadata": {
    "scrolled": false
   },
   "outputs": [],
   "source": [
    "# Add an extra month beforehand, since we are differencing from the starting point, (e.g. dS/dt) \n",
    "strstart = '2002-03-01'\n",
    "strend = '2017-03-31'\n",
    "\n",
    "startdate = datetime.datetime.strptime(strstart, \"%Y-%m-%d\")\n",
    "enddate = datetime.datetime.strptime(strend, \"%Y-%m-%d\")\n"
   ]
  },
  {
   "cell_type": "code",
   "execution_count": null,
   "metadata": {},
   "outputs": [],
   "source": []
  },
  {
   "cell_type": "code",
   "execution_count": 11,
   "metadata": {},
   "outputs": [
    {
     "name": "stderr",
     "output_type": "stream",
     "text": [
      "\r",
      "  0%|          | 0/181 [00:00<?, ?it/s]"
     ]
    },
    {
     "name": "stdout",
     "output_type": "stream",
     "text": [
      "processing:\n",
      "IDAHO_EPSCOR/TERRACLIMATE/195801\n"
     ]
    },
    {
     "name": "stderr",
     "output_type": "stream",
     "text": [
      "100%|██████████| 181/181 [01:04<00:00,  2.81it/s]\n"
     ]
    }
   ],
   "source": [
    "# Soil moisture\n",
    "tc_sm = rs.calc_monthly_mean(data['tc_sm'], startdate, enddate, area)\n",
    "tc_sm.rename(columns = {\"soil\" : \"tc_sm\"}, inplace = True)"
   ]
  },
  {
   "cell_type": "code",
   "execution_count": 12,
   "metadata": {},
   "outputs": [
    {
     "name": "stderr",
     "output_type": "stream",
     "text": [
      "\r",
      "  0%|          | 0/181 [00:00<?, ?it/s]"
     ]
    },
    {
     "name": "stdout",
     "output_type": "stream",
     "text": [
      "processing:\n",
      "NASA/GLDAS/V021/NOAH/G025/T3H/A20000102_0000\n"
     ]
    },
    {
     "name": "stderr",
     "output_type": "stream",
     "text": [
      "100%|██████████| 181/181 [28:05<00:00,  9.31s/it]\n"
     ]
    },
    {
     "name": "stdout",
     "output_type": "stream",
     "text": [
      "processing:\n"
     ]
    },
    {
     "name": "stderr",
     "output_type": "stream",
     "text": [
      "\r",
      "  0%|          | 0/181 [00:00<?, ?it/s]"
     ]
    },
    {
     "name": "stdout",
     "output_type": "stream",
     "text": [
      "NASA/GLDAS/V021/NOAH/G025/T3H/A20000102_0000\n"
     ]
    },
    {
     "name": "stderr",
     "output_type": "stream",
     "text": [
      "100%|██████████| 181/181 [20:04<00:00,  6.66s/it]\n"
     ]
    },
    {
     "name": "stdout",
     "output_type": "stream",
     "text": [
      "processing:\n"
     ]
    },
    {
     "name": "stderr",
     "output_type": "stream",
     "text": [
      "\r",
      "  0%|          | 0/181 [00:00<?, ?it/s]"
     ]
    },
    {
     "name": "stdout",
     "output_type": "stream",
     "text": [
      "NASA/GLDAS/V021/NOAH/G025/T3H/A20000102_0000\n"
     ]
    },
    {
     "name": "stderr",
     "output_type": "stream",
     "text": [
      "100%|██████████| 181/181 [15:57<00:00,  5.29s/it]\n",
      "  0%|          | 0/181 [00:00<?, ?it/s]"
     ]
    },
    {
     "name": "stdout",
     "output_type": "stream",
     "text": [
      "processing:\n",
      "NASA/GLDAS/V021/NOAH/G025/T3H/A20000102_0000\n"
     ]
    },
    {
     "name": "stderr",
     "output_type": "stream",
     "text": [
      "100%|██████████| 181/181 [10:19<00:00,  3.42s/it]\n"
     ]
    }
   ],
   "source": [
    "\n",
    "# Get alldepths gldas \n",
    "gldas_gsm1 = rs.calc_monthly_mean(data['gsm1'], startdate, enddate, area)\n",
    "gldas_gsm2 = rs.calc_monthly_mean(data['gsm2'], startdate, enddate, area)\n",
    "gldas_gsm3 = rs.calc_monthly_mean(data['gsm3'], startdate, enddate, area)\n",
    "gldas_gsm4 = rs.calc_monthly_mean(data['gsm4'], startdate, enddate, area)\n",
    "\n",
    "# Compile GLDAS\n",
    "gldas_sm = pd.DataFrame(pd.concat([gldas_gsm1,gldas_gsm2,gldas_gsm3,gldas_gsm4], axis = 1).sum(axis =1))\n",
    "gldas_sm.columns=['sm_gldas']\n",
    "\n"
   ]
  },
  {
   "cell_type": "code",
   "execution_count": 13,
   "metadata": {},
   "outputs": [
    {
     "name": "stdout",
     "output_type": "stream",
     "text": [
      "processing:\n"
     ]
    },
    {
     "name": "stderr",
     "output_type": "stream",
     "text": [
      "\r",
      "  0%|          | 0/87 [00:00<?, ?it/s]"
     ]
    },
    {
     "name": "stdout",
     "output_type": "stream",
     "text": [
      "NASA_USDA/HSL/soil_moisture/NASA_USDA_SM20100113_20100115\n"
     ]
    },
    {
     "name": "stderr",
     "output_type": "stream",
     "text": [
      "100%|██████████| 87/87 [00:47<00:00,  1.83it/s]\n",
      "  0%|          | 0/87 [00:00<?, ?it/s]"
     ]
    },
    {
     "name": "stdout",
     "output_type": "stream",
     "text": [
      "processing:\n",
      "NASA_USDA/HSL/soil_moisture/NASA_USDA_SM20100113_20100115\n"
     ]
    },
    {
     "name": "stderr",
     "output_type": "stream",
     "text": [
      "100%|██████████| 87/87 [00:31<00:00,  2.74it/s]\n",
      "  0%|          | 0/57 [00:00<?, ?it/s]"
     ]
    },
    {
     "name": "stdout",
     "output_type": "stream",
     "text": [
      "processing:\n",
      "NASA_USDA/HSL/SMAP_soil_moisture/NASA_USDA_SMAP_SM20150402_20150404\n"
     ]
    },
    {
     "name": "stderr",
     "output_type": "stream",
     "text": [
      "100%|██████████| 57/57 [00:30<00:00,  1.87it/s]\n"
     ]
    },
    {
     "name": "stdout",
     "output_type": "stream",
     "text": [
      "processing:\n"
     ]
    },
    {
     "name": "stderr",
     "output_type": "stream",
     "text": [
      "\r",
      "  0%|          | 0/57 [00:00<?, ?it/s]"
     ]
    },
    {
     "name": "stdout",
     "output_type": "stream",
     "text": [
      "NASA_USDA/HSL/SMAP_soil_moisture/NASA_USDA_SMAP_SM20150402_20150404\n"
     ]
    },
    {
     "name": "stderr",
     "output_type": "stream",
     "text": [
      "100%|██████████| 57/57 [00:18<00:00,  3.02it/s]\n"
     ]
    }
   ],
   "source": [
    "# Get smos / smap data \n",
    "smos_ssm = rs.calc_monthly_mean(data['smos_ssm'], \"2010-01-01\", enddate, area)\n",
    "smos_susm = rs.calc_monthly_mean(data['smos_susm'],\"2010-01-01\", enddate, area)\n",
    "smos_sm = pd.concat([smos_ssm, smos_susm], axis = 1).sum(axis =1)\n",
    "\n",
    "smap_ssm = rs.calc_monthly_mean(data['smap_ssm'], '2015-04-01', enddate, area)\n",
    "smap_susm = rs.calc_monthly_mean(data['smap_susm'],'2015-04-01', enddate, area)\n",
    "smap_sm = pd.concat([smap_ssm, smap_susm], axis = 1).sum(axis =1)\n",
    "\n",
    "# Make dfs and rename cols \n",
    "smap_sm = pd.DataFrame(smap_sm, columns = ['sm_smap'])\n",
    "smos_sm = pd.DataFrame(smos_sm, columns = ['sm_smos'])"
   ]
  },
  {
   "cell_type": "code",
   "execution_count": null,
   "metadata": {},
   "outputs": [],
   "source": []
  },
  {
   "cell_type": "code",
   "execution_count": 14,
   "metadata": {},
   "outputs": [
    {
     "name": "stderr",
     "output_type": "stream",
     "text": [
      "\r",
      "  0%|          | 0/181 [00:00<?, ?it/s]"
     ]
    },
    {
     "name": "stdout",
     "output_type": "stream",
     "text": [
      "processing:\n",
      "NASA/FLDAS/NOAH01/C/GL/M/V001/198201\n"
     ]
    },
    {
     "name": "stderr",
     "output_type": "stream",
     "text": [
      "100%|██████████| 181/181 [01:14<00:00,  2.42it/s]\n",
      "  0%|          | 0/181 [00:00<?, ?it/s]"
     ]
    },
    {
     "name": "stdout",
     "output_type": "stream",
     "text": [
      "processing:\n",
      "NASA/GLDAS/V021/NOAH/G025/T3H/A20000102_0000\n"
     ]
    },
    {
     "name": "stderr",
     "output_type": "stream",
     "text": [
      "100%|██████████| 181/181 [17:46<00:00,  5.89s/it]\n",
      "  0%|          | 0/181 [00:00<?, ?it/s]"
     ]
    },
    {
     "name": "stdout",
     "output_type": "stream",
     "text": [
      "processing:\n",
      "IDAHO_EPSCOR/TERRACLIMATE/195801\n"
     ]
    },
    {
     "name": "stderr",
     "output_type": "stream",
     "text": [
      "100%|██████████| 181/181 [01:07<00:00,  2.70it/s]\n",
      "  0%|          | 0/181 [00:00<?, ?it/s]"
     ]
    },
    {
     "name": "stdout",
     "output_type": "stream",
     "text": [
      "processing:\n",
      "NASA/ORNL/DAYMET_V4/19800101\n"
     ]
    },
    {
     "name": "stderr",
     "output_type": "stream",
     "text": [
      "100%|██████████| 181/181 [02:44<00:00,  1.10it/s]\n"
     ]
    }
   ],
   "source": [
    "# SWE-E\n",
    "fldas_swe = rs.calc_monthly_mean(data['fldas_swe'], startdate,enddate, area)\n",
    "gldas_swe = rs.calc_monthly_mean(data['gldas_swe'], startdate,enddate, area)\n",
    "tc_swe = rs.calc_monthly_mean(data['tc_swe'], startdate,enddate, area)\n",
    "dmet_swe = rs.calc_monthly_mean(data['dmet_swe'], startdate,enddate, area)\n"
   ]
  },
  {
   "cell_type": "code",
   "execution_count": 16,
   "metadata": {},
   "outputs": [
    {
     "name": "stderr",
     "output_type": "stream",
     "text": [
      "100%|██████████| 116/116 [00:08<00:00, 13.03it/s]\n",
      "100%|██████████| 6440/6440 [00:45<00:00, 142.89it/s]\n"
     ]
    }
   ],
   "source": [
    "# Preprocessed swe data from UCB LRM / SNODAS \n",
    "lrm_swe = rs.get_lrm_swe(\"../shape/argus_grace.shp\", data_dir = \"../data/LRM_SWE_monthly/\")\n",
    "snodas_swe = rs.get_snodas_swe(\"../shape/argus_grace.shp\", data_dir =\"../data/SNODAS/SNODAS_processed/\" )\n"
   ]
  },
  {
   "cell_type": "code",
   "execution_count": 17,
   "metadata": {},
   "outputs": [
    {
     "data": {
      "text/plain": [
       "<AxesSubplot:>"
      ]
     },
     "execution_count": 17,
     "metadata": {},
     "output_type": "execute_result"
    },
    {
     "data": {
      "image/png": "[encoded data removed]",
      "text/plain": [
       "<Figure size 432x288 with 1 Axes>"
      ]
     },
     "metadata": {
      "needs_background": "light"
     },
     "output_type": "display_data"
    }
   ],
   "source": [
    "fig, ax = plt.subplots()\n",
    "lrm_swe.plot(ax = ax)\n",
    "snodas_swe.plot(ax = ax)\n",
    "fldas_swe.plot(ax = ax)\n",
    "dmet_swe.plot(ax = ax)\n",
    "gldas_swe.plot(ax = ax)\n",
    "tc_swe.plot(ax = ax)"
   ]
  },
  {
   "cell_type": "code",
   "execution_count": 18,
   "metadata": {},
   "outputs": [],
   "source": [
    "# Rename swe columns\n",
    "dmet_swe.rename(columns = {'swe' : 'swe_dmet'}, inplace = True)\n",
    "fldas_swe.rename(columns= {'SWE_inst':'swe_fldas'}, inplace = True)\n",
    "gldas_swe.rename(columns = {'SWE_inst':'swe_gldas'}, inplace = True)\n",
    "tc_swe.rename(columns = {'swe':'swe_tc'}, inplace = True)\n"
   ]
  },
  {
   "cell_type": "code",
   "execution_count": null,
   "metadata": {},
   "outputs": [],
   "source": []
  },
  {
   "cell_type": "code",
   "execution_count": null,
   "metadata": {},
   "outputs": [],
   "source": []
  },
  {
   "cell_type": "code",
   "execution_count": null,
   "metadata": {},
   "outputs": [],
   "source": []
  },
  {
   "cell_type": "code",
   "execution_count": 19,
   "metadata": {
    "scrolled": true
   },
   "outputs": [
    {
     "name": "stdout",
     "output_type": "stream",
     "text": [
      "**** Begin Fetching CDEC Reservoir Storage Data for ../shape/argus_grace.shp ****\n"
     ]
    },
    {
     "data": {
      "application/vnd.jupyter.widget-view+json": {
       "model_id": "c9ffcef335484ce5b0f08b75c59ba2de",
       "version_major": 2,
       "version_minor": 0
      },
      "text/plain": [
       "  0%|          | 0/606 [00:00<?, ?it/s]"
      ]
     },
     "metadata": {},
     "output_type": "display_data"
    },
    {
     "name": "stdout",
     "output_type": "stream",
     "text": [
      "processing ABY\n",
      "processing ADI\n",
      "processing ADN\n",
      "processing AGP\n",
      "processing APH\n",
      "processing ALT\n",
      "processing AMF\n",
      "processing APS\n",
      "processing APU\n",
      "processing ANT\n",
      "processing ANR\n",
      "processing ATS\n",
      "processing ATP\n",
      "processing AVL\n",
      "processing ASH\n",
      "processing ASM\n",
      "processing ATW\n",
      "processing ABR\n",
      "processing AUB\n",
      "processing BDF\n",
      "processing BFK\n",
      "processing BAL\n",
      "processing BNG\n",
      "processing BHM\n",
      "processing BBS\n",
      "processing CFW\n",
      "processing BRM\n",
      "processing BV1\n",
      "processing BMD\n",
      "processing BRD\n",
      "processing BHV\n",
      "processing BEM\n",
      "processing BNH\n",
      "processing BER\n",
      "processing BGC\n",
      "processing BFT\n",
      "processing BGM\n",
      "processing BMS\n",
      "processing BP1\n",
      "processing BP2\n",
      "processing BP3\n",
      "processing BWH\n",
      "processing BGH\n",
      "processing BIS\n",
      "processing BSP\n",
      "processing BSH\n",
      "processing BLB\n",
      "processing BLS\n",
      "processing BCB\n",
      "processing BMN\n",
      "processing BLD\n",
      "processing BLC\n",
      "processing BYM\n",
      "processing BLU\n",
      "processing BLK\n",
      "processing BCA\n",
      "processing BOC\n",
      "processing BDE\n",
      "processing BNP\n",
      "processing BNM\n",
      "processing BOW\n",
      "processing BOL\n",
      "processing BOM\n",
      "processing BWN\n",
      "processing BWR\n",
      "processing BPT\n",
      "processing BDG\n",
      "processing BDP\n",
      "processing BCP\n",
      "processing BCM\n",
      "processing BUC\n",
      "processing BUP\n",
      "processing BCL\n",
      "processing BLF\n",
      "processing BNS\n",
      "processing BTV\n",
      "processing CCH\n",
      "processing CVE\n",
      "processing CVT\n",
      "processing CAL\n",
      "processing CMN\n",
      "processing CCN\n",
      "processing CPD\n",
      "processing CAM\n",
      "processing CNY\n",
      "processing CPT\n",
      "processing CAP\n",
      "processing CPL\n",
      "processing CBO\n",
      "processing CSV\n",
      "processing CSD\n",
      "processing CAS\n",
      "processing CC5\n",
      "processing CDP\n",
      "processing CDV\n",
      "processing CHK\n",
      "processing CMC\n",
      "processing CLT\n",
      "processing CHY\n",
      "processing CVD\n",
      "processing CHS\n",
      "processing CHF\n",
      "processing CES\n",
      "processing CKT\n",
      "processing CHM\n",
      "processing CHQ\n",
      "processing CHU\n",
      "processing CCO\n",
      "processing CFM\n",
      "processing CLA\n",
      "processing CLK\n",
      "processing CLM\n",
      "processing CLN\n",
      "processing CFF\n",
      "processing CBM\n",
      "processing CLF\n",
      "processing CRA\n",
      "processing CRF\n",
      "processing CRM\n",
      "processing CSN\n",
      "processing CTT\n",
      "processing CW1\n",
      "processing CWP\n",
      "processing CUR\n",
      "processing CTG\n",
      "processing CYT\n",
      "processing CYC\n",
      "processing CBT\n",
      "processing CNV\n",
      "processing CRR\n",
      "processing CRC\n",
      "processing DCN\n",
      "processing DAN\n",
      "processing DVS\n",
      "processing DSB\n",
      "processing DHC\n",
      "processing DHM\n",
      "processing DDF\n",
      "processing DDM\n",
      "processing DRC\n",
      "processing YBD\n",
      "processing DLV\n",
      "processing DPO\n",
      "processing DMN\n",
      "processing DSM\n",
      "processing DNP\n",
      "processing DON\n",
      "processing DNL\n",
      "processing DMS\n",
      "processing DNS\n",
      "processing DWV\n",
      "processing DYL\n",
      "processing DRM\n",
      "processing DNM\n",
      "processing DTL\n",
      "processing DWN\n",
      "processing DYM\n",
      "processing EGL\n",
      "processing EGM\n",
      "processing EFC\n",
      "processing EPK\n",
      "processing EPP\n",
      "processing EWR\n",
      "processing ECH\n",
      "processing EP5\n",
      "processing ECS\n",
      "processing ELL\n",
      "processing ERY\n",
      "processing EML\n",
      "processing ENG\n",
      "processing ENM\n",
      "processing ERB\n",
      "processing EUR\n",
      "processing FRF\n",
      "processing FMT\n",
      "processing FRW\n",
      "processing FTT\n",
      "processing FTO\n",
      "processing FEM\n",
      "processing NIC\n",
      "processing FDD\n",
      "processing FNP\n",
      "processing FLC\n",
      "processing FLR\n",
      "processing FLD\n",
      "processing FOL\n",
      "processing FSC\n",
      "processing FBD\n",
      "processing FRH\n",
      "processing FKM\n",
      "processing FBW\n",
      "processing FJN\n",
      "processing FDM\n",
      "processing FP3\n",
      "processing FBN\n",
      "processing FRL\n",
      "processing FMD\n",
      "processing FCV\n",
      "processing FRD\n",
      "processing FRO\n",
      "processing MIL\n",
      "processing FGC\n",
      "processing FNF\n",
      "processing GLK\n",
      "processing GML\n",
      "processing GEM\n",
      "processing GRG\n",
      "processing GNL\n",
      "processing GFR\n",
      "processing GNF\n",
      "processing GBL\n",
      "processing GIB\n",
      "processing GBS\n",
      "processing GBN\n",
      "processing GFL\n",
      "processing GLV\n",
      "processing GNG\n",
      "processing GRO\n",
      "processing GNT\n",
      "processing GSV\n",
      "processing GYR\n",
      "processing GRZ\n",
      "processing GVL\n",
      "processing GHS\n",
      "processing GYF\n",
      "processing HMS\n",
      "processing HND\n",
      "processing HRF\n",
      "processing HRR\n",
      "processing HTC\n",
      "processing HRT\n",
      "processing HHL\n",
      "processing HLK\n",
      "processing HLM\n",
      "processing HDC\n",
      "processing HRG\n",
      "processing HTH\n",
      "processing HID\n",
      "processing HIG\n",
      "processing HHM\n",
      "processing HCK\n",
      "processing HKM\n",
      "processing HLS\n",
      "processing HCM\n",
      "processing HRS\n",
      "processing HSS\n",
      "processing HCL\n",
      "processing HS2\n",
      "processing HTT\n",
      "processing HNT\n",
      "processing HYS\n",
      "processing IHS\n",
      "processing ICH\n",
      "processing IPN\n",
      "processing INL\n",
      "processing INV\n",
      "processing IRC\n",
      "processing ISB\n",
      "processing JCM\n",
      "processing JCK\n",
      "processing JKM\n",
      "processing JNK\n",
      "processing JSV\n",
      "processing JCR\n",
      "processing JNM\n",
      "processing KSR\n",
      "processing KWT\n",
      "processing KP3\n",
      "processing KR3\n",
      "processing KRB\n",
      "processing KRI\n",
      "processing KRC\n",
      "processing KES\n",
      "processing KTL\n",
      "processing KGF\n",
      "processing KLI\n",
      "processing ALM\n",
      "processing ABN\n",
      "processing BIT\n",
      "processing CRW\n",
      "processing DAV\n",
      "processing ENR\n",
      "processing FOD\n",
      "processing HNN\n",
      "processing LLL\n",
      "processing MCS\n",
      "processing MCO\n",
      "processing MCR\n",
      "processing NAT\n",
      "processing LPA\n",
      "processing PLL\n",
      "processing SBN\n",
      "processing ATN\n",
      "processing SPD\n",
      "processing LSP\n",
      "processing BWS\n",
      "processing TAH\n",
      "processing THE\n",
      "processing LVC\n",
      "processing LVY\n",
      "processing LVT\n",
      "processing LMC\n",
      "processing LRA\n",
      "processing LTT\n",
      "processing LEW\n",
      "processing LFH\n",
      "processing LXN\n",
      "processing LNG\n",
      "processing LND\n",
      "processing LGV\n",
      "processing LSH\n",
      "processing LWM\n",
      "processing LBD\n",
      "processing LDG\n",
      "processing LMD\n",
      "processing LON\n",
      "processing LSB\n",
      "processing LVQ\n",
      "processing LCR\n",
      "processing LWB\n",
      "processing LCP\n",
      "processing LKB\n",
      "processing LLP\n",
      "processing REL\n",
      "processing LB2\n",
      "processing LYN\n",
      "processing LYS\n",
      "processing MDR\n",
      "processing MMT\n",
      "processing MAM\n",
      "processing MPL\n",
      "processing MZL\n",
      "processing MRP\n",
      "processing MKV\n",
      "processing MRT\n",
      "processing MLD\n",
      "processing MSS\n",
      "processing MCT\n",
      "processing MCP\n",
      "processing MWL\n",
      "processing MDC\n",
      "processing MFS\n",
      "processing MRC\n",
      "processing MDS\n",
      "processing MBL\n",
      "processing MB3\n",
      "processing MLF\n",
      "processing MN2\n",
      "processing MNR\n",
      "processing MNK\n",
      "processing MIC\n",
      "processing MCB\n",
      "processing MCN\n",
      "processing MDE\n",
      "processing MDO\n",
      "processing MKM\n",
      "processing MNP\n",
      "processing MDY\n",
      "processing MD2\n",
      "processing HML\n",
      "processing MHG\n",
      "processing MSH\n",
      "processing MSC\n",
      "processing MSV\n",
      "processing MNH\n",
      "processing MMW\n",
      "processing MUM\n",
      "processing NCM\n",
      "processing NCD\n",
      "processing NSH\n",
      "processing NPH\n",
      "processing NLL\n",
      "processing NVD\n",
      "processing BUL\n",
      "processing EXC\n",
      "processing NGM\n",
      "processing NHG\n",
      "processing NMN\n",
      "processing NMQ\n",
      "processing NML\n",
      "processing NGF\n",
      "processing NCA\n",
      "processing NFR\n",
      "processing NFS\n",
      "processing NTH\n",
      "processing 8SI\n",
      "processing NRF\n",
      "processing OKC\n",
      "processing OWW\n",
      "processing OEM\n",
      "processing ONF\n",
      "processing ONN\n",
      "processing ORL\n",
      "processing ORO\n",
      "processing ORT\n",
      "processing STR\n",
      "processing OTR\n",
      "processing OWL\n",
      "processing PCF\n",
      "processing PFV\n",
      "processing PLC\n",
      "processing PNH\n",
      "processing PTM\n",
      "processing PRD\n",
      "processing PDS\n",
      "processing PAR\n",
      "processing PRK\n",
      "processing PSC\n",
      "processing PGM\n",
      "processing PHL\n",
      "processing PLP\n",
      "processing PNF\n",
      "processing PCR\n",
      "processing PNB\n",
      "processing PR1\n",
      "processing PT6\n",
      "processing PT7\n",
      "processing PSH\n",
      "processing PPS\n",
      "processing PCV\n",
      "processing PSM\n",
      "processing PLE\n",
      "processing PDT\n",
      "processing PMD\n",
      "processing PRT\n",
      "processing PRM\n",
      "processing PSV\n",
      "processing PRS\n",
      "processing PYM\n",
      "processing QKA\n",
      "processing QRD\n",
      "processing QNC\n",
      "processing QRS\n",
      "processing RFM\n",
      "processing RMM\n",
      "processing RTT\n",
      "processing RBF\n",
      "processing RDM\n",
      "processing RRM\n",
      "processing RDN\n",
      "processing RLF\n",
      "processing RLD\n",
      "processing RCH\n",
      "processing RGT\n",
      "processing RBV\n",
      "processing RCW\n",
      "processing RCR\n",
      "processing RC1\n",
      "processing RC2\n",
      "processing RC3\n",
      "processing RGC\n",
      "processing RLL\n",
      "processing RMR\n",
      "processing RDC\n",
      "processing RMD\n",
      "processing RWM\n",
      "processing RWL\n",
      "processing RP1\n",
      "processing RP2\n",
      "processing RRH\n",
      "processing HEA\n",
      "processing SPE\n",
      "processing SA2\n",
      "processing SDT\n",
      "processing SBB\n",
      "processing SCR\n",
      "processing SIS\n",
      "processing SDL\n",
      "processing SDB\n",
      "processing SGH\n",
      "processing PAS\n",
      "processing SLS\n",
      "processing SSR\n",
      "processing SAT\n",
      "processing 5SI\n",
      "processing SJF\n",
      "processing SNL\n",
      "processing SLF\n",
      "processing LUS\n",
      "processing SFT\n",
      "processing SDM\n",
      "processing SRO\n",
      "processing SHW\n",
      "processing SRF\n",
      "processing SWM\n",
      "processing SWL\n",
      "processing SCE\n",
      "processing SFL\n",
      "processing SHA\n",
      "processing SHO\n",
      "processing SHV\n",
      "processing SHM\n",
      "processing SIB\n",
      "processing SRR\n",
      "processing SIL\n",
      "processing SVR\n",
      "processing SIV\n",
      "processing SLB\n",
      "processing SLT\n",
      "processing SLA\n",
      "processing SLC\n",
      "processing SLP\n",
      "processing SNF\n",
      "processing SMT\n",
      "processing SCF\n",
      "processing SSG\n",
      "processing SRP\n",
      "processing SOR\n",
      "processing SLJ\n",
      "processing BEV\n",
      "processing SEY\n",
      "processing SLK\n",
      "processing SSJ\n",
      "processing Y31\n",
      "processing Y34\n",
      "processing SPM\n",
      "processing SPF\n",
      "processing SFB\n",
      "processing SGV\n",
      "processing SQ2\n",
      "processing STP\n",
      "processing SLM\n",
      "processing SNS\n",
      "processing SMD\n",
      "processing SET\n",
      "processing STK\n",
      "processing STG\n",
      "processing STM\n",
      "processing SWB\n",
      "processing STV\n",
      "processing EDN\n",
      "processing SCC\n",
      "processing SSM\n",
      "processing SSN\n",
      "processing SWJ\n",
      "processing SWT\n",
      "processing TAC\n",
      "processing TBC\n",
      "processing TMK\n",
      "processing TMF\n",
      "processing TNY\n",
      "processing TRM\n",
      "processing TMT\n",
      "processing TAB\n",
      "processing THD\n",
      "processing TFR\n",
      "processing TAE\n"
     ]
    },
    {
     "name": "stdout",
     "output_type": "stream",
     "text": [
      "processing THL\n",
      "processing 3LK\n",
      "processing 3RV\n",
      "processing TCP\n",
      "processing TNM\n",
      "processing TGP\n",
      "processing TCR\n",
      "processing TRG\n",
      "processing TRL\n",
      "processing CLE\n",
      "processing TNL\n",
      "processing TRF\n",
      "processing TKT\n",
      "processing TKE\n",
      "processing 6SI\n",
      "processing TUL\n",
      "processing STU\n",
      "processing TUM\n",
      "processing TLG\n",
      "processing TLC\n",
      "processing TND\n",
      "processing UNV\n",
      "processing UBC\n",
      "processing UCP\n",
      "processing UKR\n",
      "processing UTR\n",
      "processing UWD\n",
      "processing VNN\n",
      "processing VNT\n",
      "processing VGL\n",
      "processing VRG\n",
      "processing VSL\n",
      "processing VLC\n",
      "processing WBM\n",
      "processing WR2\n",
      "processing WRN\n",
      "processing WSC\n",
      "processing WVR\n",
      "processing WBB\n",
      "processing WPK\n",
      "processing WFC\n",
      "processing WPT\n",
      "processing WWR\n",
      "processing WHN\n",
      "processing WHE\n",
      "processing WHK\n",
      "processing WHI\n",
      "processing WLF\n",
      "processing WLW\n",
      "processing WSN\n",
      "processing WSD\n",
      "processing WLC\n",
      "processing WDH\n",
      "processing WDL\n",
      "processing WRG\n",
      "processing YSV\n",
      "processing YRK\n",
      "processing YBP\n",
      "processing YRS\n",
      "Mean reservoir storage = Sres    30.134939\n",
      "dtype: float64 km^3\n",
      "Reservoir Storage DONE ====================================== \n"
     ]
    }
   ],
   "source": [
    "# Get the Reservoir data in the grace domain \n",
    "\n",
    "shpfile = \"../shape/argus_grace.shp\"\n",
    "\n",
    "print(\"**** Begin Fetching CDEC Reservoir Storage Data for {} ****\".format(shpfile))\n",
    "\n",
    "# Read the shapefile \n",
    "gdf = gp.read_file(shpfile)\n",
    "\n",
    "# Spatial join cdec reservoirs to supplied gdf \n",
    "reservoirs = gp.read_file(\"../shape/cdec_reservoirs.shp\")\n",
    "within_gdf = gp.sjoin(reservoirs, gdf, how='inner', op='within')\n",
    "\n",
    "# Download Storage (SensorNums = 15) data by query str:\n",
    "start = datetime.datetime(1997, 1, 1)\n",
    "end = datetime.datetime(2020, 1, 1)\n",
    "dt_idx = pd.date_range(start,end, freq='M')\n",
    "\n",
    "data = {}\n",
    "\n",
    "for i in tqdm(within_gdf.ID):\n",
    "    print(\"processing \" + i )\n",
    "    url = \"https://cdec.water.ca.gov/dynamicapp/req/CSVDataServlet?Stations={}&SensorNums=15&dur_code=M&Start=1997-01-01&End=2020-01-01\".format(i)\n",
    "    urlData = requests.get(url).content\n",
    "    resdf = pd.read_csv(io.StringIO(urlData.decode('utf-8')))\n",
    "\n",
    "    if resdf.empty:\n",
    "        pass\n",
    "    else:\n",
    "        data[i] = resdf\n",
    "\n",
    "storage = []\n",
    "for k,v in data.items():\n",
    "    dat = pd.to_numeric(data[k].VALUE, errors = \"coerce\")\n",
    "    if not len(dat) < len(dt_idx):\n",
    "        storage.append(pd.to_numeric(data[k].VALUE, errors = \"coerce\"))\n",
    "\n",
    "storage_sum = np.nansum(np.column_stack(storage), axis = 1) * 1.23348e-6 # acre ft to km^3\n",
    "Sres = pd.DataFrame(zip(dt_idx,storage_sum), columns = ['date',\"Sres\"])\n",
    "Sres.set_index('date', inplace = True)\n",
    "\n",
    "print(\"Mean reservoir storage = {} km^3\".format(np.mean(Sres)))\n",
    "\n",
    "print(\"Reservoir Storage DONE ====================================== \")\n",
    "\n"
   ]
  },
  {
   "cell_type": "code",
   "execution_count": 20,
   "metadata": {
    "scrolled": true
   },
   "outputs": [
    {
     "name": "stderr",
     "output_type": "stream",
     "text": [
      "/opt/anaconda3/envs/rsenv/lib/python3.8/site-packages/geopandas/geodataframe.py:1322: SettingWithCopyWarning: \n",
      "A value is trying to be set on a copy of a slice from a DataFrame.\n",
      "Try using .loc[row_indexer,col_indexer] = value instead\n",
      "\n",
      "See the caveats in the documentation: https://pandas.pydata.org/pandas-docs/stable/user_guide/indexing.html#returning-a-view-versus-a-copy\n",
      "  super(GeoDataFrame, self).__setitem__(key, value)\n",
      "/opt/anaconda3/envs/rsenv/lib/python3.8/site-packages/pandas/core/indexing.py:1720: SettingWithCopyWarning: \n",
      "A value is trying to be set on a copy of a slice from a DataFrame.\n",
      "Try using .loc[row_indexer,col_indexer] = value instead\n",
      "\n",
      "See the caveats in the documentation: https://pandas.pydata.org/pandas-docs/stable/user_guide/indexing.html#returning-a-view-versus-a-copy\n",
      "  self._setitem_single_column(loc, value, pi)\n"
     ]
    }
   ],
   "source": [
    "# Calc means for each station with data\n",
    "stn_means = {}\n",
    "for k,v in data.items():\n",
    "    stn_means[k] = np.nanmean(pd.to_numeric(v.VALUE, errors = \"coerce\"))* 1.23348e-6 # acre ft to km^3\n",
    "\n",
    "# Reassemble a gdf to write out \n",
    "sdfs=[]\n",
    "for k,v in stn_means.items():\n",
    "    sdf = within_gdf[within_gdf['ID'] == k]\n",
    "    sdf.loc[:,'Smean'] = v\n",
    "    sdfs.append(sdf)\n",
    "    "
   ]
  },
  {
   "cell_type": "code",
   "execution_count": 21,
   "metadata": {},
   "outputs": [
    {
     "name": "stderr",
     "output_type": "stream",
     "text": [
      "<ipython-input-21-9093354ebd33>:2: UserWarning: Column names longer than 10 characters will be truncated when saved to ESRI Shapefile.\n",
      "  pd.concat(sdfs).to_file(\"../shape/reservoirs_grace.shp\")\n"
     ]
    }
   ],
   "source": [
    "# Write reservoirs in the grace domain\n",
    "pd.concat(sdfs).to_file(\"../shape/reservoirs_grace.shp\")"
   ]
  },
  {
   "cell_type": "code",
   "execution_count": 22,
   "metadata": {},
   "outputs": [],
   "source": [
    "# Rename all df columns and format for ensemble runs \n",
    "\n",
    "# SWE \n",
    "swecoldict = {'swe_gldas':'GLDAS', \n",
    "                'swe_fldas':'FLDAS',  \n",
    "                'swe_dmet':\"Daymet\",\n",
    "                'swe_tc':'TC',\n",
    "                'swe_lrm': \"UCB LRM\",\n",
    "                'swe_snodas': \"SNODAS\"}\n",
    "swedf = pd.concat([dmet_swe,gldas_swe,fldas_swe,tc_swe,lrm_swe,snodas_swe], axis = 1)\n",
    "swedf.rename(columns = swecoldict, inplace = True)\n",
    "\n",
    "# SM\n",
    "smcoldict = {   'sm_gldas':'GLDAS', \n",
    "                'tc_sm':'TC',\n",
    "                'sm_smos': \"SMOS\",\n",
    "                'sm_smap': \"SMAP\"}\n",
    "smdf = pd.concat([gldas_sm,tc_sm,smos_sm,smap_sm], axis = 1)\n",
    "smdf.rename(columns = smcoldict, inplace = True)\n",
    "\n",
    "\n",
    "# Grace\n",
    "cri.rename(columns = {'lwe_thickness': 'lwe_thickness_cri'}, inplace = True)\n",
    "mas.rename(columns = {'lwe_thickness': 'lwe_thickness_mas'}, inplace = True)\n",
    "grdf = pd.concat([cri,mas,jpl,gfz,csr], axis = 1)\n",
    "\n",
    "gm_col_dict = {'lwe_thickness_cri':'GLDAS', \n",
    "                'lwe_thickness_cri':'FLDAS',  \n",
    "                'lwe_thickness_cri':\"Daymet\",\n",
    "                'lwe_thickness_cri':'TC',\n",
    "                'lwe_thickness_cri': \"UCB LRM\"}\n",
    "\n",
    "cri.rename(columns = {'lwe_thickness': 'lwe_thickness_cri'}, inplace = True)\n",
    "mas.rename(columns = {'lwe_thickness': 'lwe_thickness_mas'}, inplace = True)\n",
    "grdf = pd.concat([cri,cri_lower, cri_upper,mas,mas_lower, mas_upper,jpl,gfz,csr], axis = 1)\n",
    "\n",
    "gm_col_dict = { 'lwe_thickness_cri':'CRI', \n",
    "                'lwe_thickness_mas':'MAS',  \n",
    "                'lwe_thickness_jpl':\"JPL\",\n",
    "                'lwe_thickness_gfz':'GFZ',\n",
    "                'lwe_thickness_csr':\"CSR\",\n",
    "                'cri_lower' : \"CRI Lower Bound\",\n",
    "                'cri_upper' : \"CRI Upper Bound\",\n",
    "                'mas_upper' : \"MAS Upper Bound\",\n",
    "                'mas_lower' : \"MAS Lower Bound\",\n",
    "              }\n",
    "\n",
    "grdf.rename(columns = gm_col_dict, inplace = True)"
   ]
  },
  {
   "cell_type": "code",
   "execution_count": 23,
   "metadata": {},
   "outputs": [
    {
     "name": "stdout",
     "output_type": "stream",
     "text": [
      "Ensemble has 48 members\n"
     ]
    }
   ],
   "source": [
    "# Make the ensemble \n",
    "swelist = ['UCB LRM','SNODAS', \"TC\",\"FLDAS\"]\n",
    "smlist = ['SMOS','SMAP','TC','GLDAS']\n",
    "glist = [\"CRI Upper Bound\", \"CRI\", \"CRI Lower Bound\"]\n",
    "\n",
    "combolist = list(itertools.product(*[swelist,smlist,glist]))\n",
    "print(\"Ensemble has {} members\".format(str(len(combolist))))"
   ]
  },
  {
   "cell_type": "code",
   "execution_count": 24,
   "metadata": {},
   "outputs": [],
   "source": [
    "grace_ens = []\n",
    "for swe,sm,grace in combolist:\n",
    "    ds = (grdf[grace] - swedf[swe].diff() - smdf[sm].diff() - Sres['Sres'].diff())\n",
    "    end = grdf['CRI'].dropna().index[-1]\n",
    "    mask = (ds.index < end)\n",
    "    grace_ens.append(ds.loc[mask].interpolate(method=\"polynomial\", order = 3))"
   ]
  },
  {
   "cell_type": "code",
   "execution_count": 25,
   "metadata": {},
   "outputs": [
    {
     "name": "stderr",
     "output_type": "stream",
     "text": [
      "/opt/anaconda3/envs/rsenv/lib/python3.8/site-packages/numpy/lib/nanfunctions.py:1389: RuntimeWarning: All-NaN slice encountered\n",
      "  result = np.apply_along_axis(_nanquantile_1d, axis, a, q,\n",
      "<ipython-input-25-3da92dd03d48>:10: RuntimeWarning: Mean of empty slice\n",
      "  ax1.plot(grace_ens[0].index,np.nanmean(np.vstack(grace_ens)/ 155000 * 1e6, axis = 0), linewidth = 2, color = 'red')\n",
      "<ipython-input-25-3da92dd03d48>:21: RuntimeWarning: All-NaN slice encountered\n",
      "  p25 = np.nanmin(np.vstack(grace_ens), axis =0)\n",
      "<ipython-input-25-3da92dd03d48>:22: RuntimeWarning: All-NaN slice encountered\n",
      "  p75 = np.nanmax(np.vstack(grace_ens), axis =0)\n",
      "<ipython-input-25-3da92dd03d48>:23: RuntimeWarning: Mean of empty slice\n",
      "  ax2.plot(grace_ens[0].index,np.nanmean(np.vstack(grace_ens), axis = 0), alpha = 0)\n"
     ]
    },
    {
     "data": {
      "image/png": "[encoded data removed]",
      "text/plain": [
       "<Figure size 432x288 with 2 Axes>"
      ]
     },
     "metadata": {
      "needs_background": "light"
     },
     "output_type": "display_data"
    }
   ],
   "source": [
    "fig, ax1 = plt.subplots()\n",
    "\n",
    "# Uncomment to plot all ensembles\n",
    "for d in grace_ens:\n",
    "    ax1.plot(d / 155000 * 1e6, alpha = 0.0, color = 'gray')\n",
    "\n",
    "p25 = np.nanquantile(np.vstack(grace_ens)/ 155000 * 1e6,0.15, axis =0)\n",
    "p75 = np.nanquantile(np.vstack(grace_ens)/ 155000 * 1e6,0.85, axis =0)\n",
    "    \n",
    "ax1.plot(grace_ens[0].index,np.nanmean(np.vstack(grace_ens)/ 155000 * 1e6, axis = 0), linewidth = 2, color = 'red')\n",
    "ax1.set_ylabel('ΔSgw (mm)')\n",
    "# ax1.set_ylim([np.nanmin(p25),np.nanmax(p75)])\n",
    "\n",
    "ax2 = ax1.twinx()  \n",
    "\n",
    "# Uncomment to plot all ensembles\n",
    "for d in grace_ens:\n",
    "    ax2.plot(d, alpha = 0.0, color = 'gray')\n",
    "\n",
    "# 75 th 25th quantile\n",
    "p25 = np.nanmin(np.vstack(grace_ens), axis =0)\n",
    "p75 = np.nanmax(np.vstack(grace_ens), axis =0)\n",
    "ax2.plot(grace_ens[0].index,np.nanmean(np.vstack(grace_ens), axis = 0), alpha = 0)\n",
    "ax2.fill_between(grace_ens[0].index,p25,p75, alpha = 0.3, color = 'red')\n",
    "\n",
    "ax2.tick_params(axis='y')\n",
    "ax2.set_ylabel('ΔSgw ($km^3$)')\n",
    "ax2.set_ylim([np.nanmin(p25),np.nanmax(p75)])\n",
    "ax2.set_title(\"third degree polynomial fit\")\n",
    "\n",
    "plt.show()"
   ]
  },
  {
   "cell_type": "code",
   "execution_count": 26,
   "metadata": {},
   "outputs": [
    {
     "name": "stderr",
     "output_type": "stream",
     "text": [
      "/opt/anaconda3/envs/rsenv/lib/python3.8/site-packages/numpy/lib/nanfunctions.py:1389: RuntimeWarning: All-NaN slice encountered\n",
      "  result = np.apply_along_axis(_nanquantile_1d, axis, a, q,\n",
      "<ipython-input-26-433fa95f0bd7>:10: RuntimeWarning: Mean of empty slice\n",
      "  ax1.plot(grace_ens[0].index,np.nanmean(np.vstack(grace_ens)/ 155000 * 1e6, axis = 0), linewidth = 2, color = 'red')\n",
      "<ipython-input-26-433fa95f0bd7>:21: RuntimeWarning: All-NaN slice encountered\n",
      "  p25 = np.nanmin(np.vstack(grace_ens), axis =0)\n",
      "<ipython-input-26-433fa95f0bd7>:22: RuntimeWarning: All-NaN slice encountered\n",
      "  p75 = np.nanmax(np.vstack(grace_ens), axis =0)\n",
      "<ipython-input-26-433fa95f0bd7>:23: RuntimeWarning: Mean of empty slice\n",
      "  ax2.plot(grace_ens[0].index,np.nanmean(np.vstack(grace_ens), axis = 0), alpha = 0)\n"
     ]
    },
    {
     "data": {
      "image/png": "[encoded data removed]",
      "text/plain": [
       "<Figure size 432x288 with 2 Axes>"
      ]
     },
     "metadata": {
      "needs_background": "light"
     },
     "output_type": "display_data"
    }
   ],
   "source": [
    "fig, ax1 = plt.subplots()\n",
    "\n",
    "# Uncomment to plot all ensembles\n",
    "for d in grace_ens:\n",
    "    ax1.plot(d / 155000 * 1e6, alpha = 0.0, color = 'gray')\n",
    "\n",
    "p25 = np.nanquantile(np.vstack(grace_ens)/ 155000 * 1e6,0.15, axis =0)\n",
    "p75 = np.nanquantile(np.vstack(grace_ens)/ 155000 * 1e6,0.85, axis =0)\n",
    "    \n",
    "ax1.plot(grace_ens[0].index,np.nanmean(np.vstack(grace_ens)/ 155000 * 1e6, axis = 0), linewidth = 2, color = 'red')\n",
    "ax1.set_ylabel('ΔSgw (mm)')\n",
    "# ax1.set_ylim([np.nanmin(p25),np.nanmax(p75)])\n",
    "\n",
    "ax2 = ax1.twinx()  \n",
    "\n",
    "# Uncomment to plot all ensembles\n",
    "for d in grace_ens:\n",
    "    ax2.plot(d, alpha = 0.0, color = 'gray')\n",
    "\n",
    "# 75 th 25th quantile\n",
    "p25 = np.nanmin(np.vstack(grace_ens), axis =0)\n",
    "p75 = np.nanmax(np.vstack(grace_ens), axis =0)\n",
    "ax2.plot(grace_ens[0].index,np.nanmean(np.vstack(grace_ens), axis = 0), alpha = 0)\n",
    "ax2.fill_between(grace_ens[0].index,p25,p75, alpha = 0.3, color = 'red')\n",
    "\n",
    "ax2.tick_params(axis='y')\n",
    "ax2.set_ylabel('ΔSgw ($km^3$)')\n",
    "ax2.set_ylim([np.nanmin(p25),np.nanmax(p75)])\n",
    "\n",
    "plt.show()"
   ]
  },
  {
   "cell_type": "code",
   "execution_count": 27,
   "metadata": {},
   "outputs": [
    {
     "name": "stderr",
     "output_type": "stream",
     "text": [
      "<ipython-input-27-1884358dece7>:1: RuntimeWarning: All-NaN slice encountered\n",
      "  grace_df_out = pd.DataFrame([np.nanmin(np.vstack(grace_ens), axis =0),\n",
      "<ipython-input-27-1884358dece7>:2: RuntimeWarning: Mean of empty slice\n",
      "  np.nanmean(np.vstack(grace_ens), axis =0),\n",
      "<ipython-input-27-1884358dece7>:3: RuntimeWarning: All-NaN slice encountered\n",
      "  np.nanmax(np.vstack(grace_ens), axis =0)]).T\n"
     ]
    }
   ],
   "source": [
    "grace_df_out = pd.DataFrame([np.nanmin(np.vstack(grace_ens), axis =0), \n",
    "                             np.nanmean(np.vstack(grace_ens), axis =0), \n",
    "                             np.nanmax(np.vstack(grace_ens), axis =0)]).T\n",
    "grace_df_out.index = grace_ens[0].index\n",
    "grace_df_out.columns = ['grace_min', 'grace_mean', 'grace_max']"
   ]
  },
  {
   "cell_type": "code",
   "execution_count": 28,
   "metadata": {},
   "outputs": [],
   "source": [
    "grace_df_out.dropna().to_csv(\"../data/grace.csv\")"
   ]
  },
  {
   "cell_type": "code",
   "execution_count": null,
   "metadata": {},
   "outputs": [],
   "source": []
  }
 ],
 "metadata": {
  "kernelspec": {
   "display_name": "Python 3",
   "language": "python",
   "name": "python3"
  },
  "language_info": {
   "codemirror_mode": {
    "name": "ipython",
    "version": 3
   },
   "file_extension": ".py",
   "mimetype": "text/x-python",
   "name": "python",
   "nbconvert_exporter": "python",
   "pygments_lexer": "ipython3",
   "version": "3.8.10"
  }
 },
 "nbformat": 4,
 "nbformat_minor": 4
}
